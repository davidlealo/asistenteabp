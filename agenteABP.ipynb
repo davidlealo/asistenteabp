{
  "nbformat": 4,
  "nbformat_minor": 0,
  "metadata": {
    "colab": {
      "provenance": [],
      "authorship_tag": "ABX9TyPEdX50nSZ4cgNo4rgUazK4",
      "include_colab_link": true
    },
    "kernelspec": {
      "name": "python3",
      "display_name": "Python 3"
    },
    "language_info": {
      "name": "python"
    }
  },
  "cells": [
    {
      "cell_type": "markdown",
      "metadata": {
        "id": "view-in-github",
        "colab_type": "text"
      },
      "source": [
        "<a href=\"https://colab.research.google.com/github/davidlealo/asistenteabp/blob/main/agenteABP.ipynb\" target=\"_parent\"><img src=\"https://colab.research.google.com/assets/colab-badge.svg\" alt=\"Open In Colab\"/></a>"
      ]
    },
    {
      "cell_type": "markdown",
      "source": [
        "# Instalar bibliotecas necesarias"
      ],
      "metadata": {
        "id": "vpu84p68E0Oy"
      }
    },
    {
      "cell_type": "code",
      "execution_count": 1,
      "metadata": {
        "colab": {
          "base_uri": "https://localhost:8080/"
        },
        "id": "nJYBVAjTDBmZ",
        "outputId": "7eb13078-a356-4a74-8cb1-b2c54d1001fb"
      },
      "outputs": [
        {
          "output_type": "stream",
          "name": "stdout",
          "text": [
            "Collecting mistralai\n",
            "  Downloading mistralai-1.2.5-py3-none-any.whl.metadata (27 kB)\n",
            "Requirement already satisfied: eval-type-backport<0.3.0,>=0.2.0 in /usr/local/lib/python3.10/dist-packages (from mistralai) (0.2.0)\n",
            "Collecting httpx<0.28.0,>=0.27.0 (from mistralai)\n",
            "  Downloading httpx-0.27.2-py3-none-any.whl.metadata (7.1 kB)\n",
            "Collecting jsonpath-python<2.0.0,>=1.0.6 (from mistralai)\n",
            "  Downloading jsonpath_python-1.0.6-py3-none-any.whl.metadata (12 kB)\n",
            "Requirement already satisfied: pydantic<3.0.0,>=2.9.0 in /usr/local/lib/python3.10/dist-packages (from mistralai) (2.10.3)\n",
            "Requirement already satisfied: python-dateutil<3.0.0,>=2.8.2 in /usr/local/lib/python3.10/dist-packages (from mistralai) (2.8.2)\n",
            "Collecting typing-inspect<0.10.0,>=0.9.0 (from mistralai)\n",
            "  Downloading typing_inspect-0.9.0-py3-none-any.whl.metadata (1.5 kB)\n",
            "Requirement already satisfied: anyio in /usr/local/lib/python3.10/dist-packages (from httpx<0.28.0,>=0.27.0->mistralai) (3.7.1)\n",
            "Requirement already satisfied: certifi in /usr/local/lib/python3.10/dist-packages (from httpx<0.28.0,>=0.27.0->mistralai) (2024.8.30)\n",
            "Requirement already satisfied: httpcore==1.* in /usr/local/lib/python3.10/dist-packages (from httpx<0.28.0,>=0.27.0->mistralai) (1.0.7)\n",
            "Requirement already satisfied: idna in /usr/local/lib/python3.10/dist-packages (from httpx<0.28.0,>=0.27.0->mistralai) (3.10)\n",
            "Requirement already satisfied: sniffio in /usr/local/lib/python3.10/dist-packages (from httpx<0.28.0,>=0.27.0->mistralai) (1.3.1)\n",
            "Requirement already satisfied: h11<0.15,>=0.13 in /usr/local/lib/python3.10/dist-packages (from httpcore==1.*->httpx<0.28.0,>=0.27.0->mistralai) (0.14.0)\n",
            "Requirement already satisfied: annotated-types>=0.6.0 in /usr/local/lib/python3.10/dist-packages (from pydantic<3.0.0,>=2.9.0->mistralai) (0.7.0)\n",
            "Requirement already satisfied: pydantic-core==2.27.1 in /usr/local/lib/python3.10/dist-packages (from pydantic<3.0.0,>=2.9.0->mistralai) (2.27.1)\n",
            "Requirement already satisfied: typing-extensions>=4.12.2 in /usr/local/lib/python3.10/dist-packages (from pydantic<3.0.0,>=2.9.0->mistralai) (4.12.2)\n",
            "Requirement already satisfied: six>=1.5 in /usr/local/lib/python3.10/dist-packages (from python-dateutil<3.0.0,>=2.8.2->mistralai) (1.16.0)\n",
            "Collecting mypy-extensions>=0.3.0 (from typing-inspect<0.10.0,>=0.9.0->mistralai)\n",
            "  Downloading mypy_extensions-1.0.0-py3-none-any.whl.metadata (1.1 kB)\n",
            "Requirement already satisfied: exceptiongroup in /usr/local/lib/python3.10/dist-packages (from anyio->httpx<0.28.0,>=0.27.0->mistralai) (1.2.2)\n",
            "Downloading mistralai-1.2.5-py3-none-any.whl (260 kB)\n",
            "\u001b[2K   \u001b[90m━━━━━━━━━━━━━━━━━━━━━━━━━━━━━━━━━━━━━━━━\u001b[0m \u001b[32m260.0/260.0 kB\u001b[0m \u001b[31m4.8 MB/s\u001b[0m eta \u001b[36m0:00:00\u001b[0m\n",
            "\u001b[?25hDownloading httpx-0.27.2-py3-none-any.whl (76 kB)\n",
            "\u001b[2K   \u001b[90m━━━━━━━━━━━━━━━━━━━━━━━━━━━━━━━━━━━━━━━━\u001b[0m \u001b[32m76.4/76.4 kB\u001b[0m \u001b[31m1.9 MB/s\u001b[0m eta \u001b[36m0:00:00\u001b[0m\n",
            "\u001b[?25hDownloading jsonpath_python-1.0.6-py3-none-any.whl (7.6 kB)\n",
            "Downloading typing_inspect-0.9.0-py3-none-any.whl (8.8 kB)\n",
            "Downloading mypy_extensions-1.0.0-py3-none-any.whl (4.7 kB)\n",
            "Installing collected packages: mypy-extensions, jsonpath-python, typing-inspect, httpx, mistralai\n",
            "  Attempting uninstall: httpx\n",
            "    Found existing installation: httpx 0.28.0\n",
            "    Uninstalling httpx-0.28.0:\n",
            "      Successfully uninstalled httpx-0.28.0\n",
            "Successfully installed httpx-0.27.2 jsonpath-python-1.0.6 mistralai-1.2.5 mypy-extensions-1.0.0 typing-inspect-0.9.0\n",
            "Requirement already satisfied: transformers in /usr/local/lib/python3.10/dist-packages (4.46.3)\n",
            "Requirement already satisfied: ipywidgets in /usr/local/lib/python3.10/dist-packages (7.7.1)\n",
            "Requirement already satisfied: filelock in /usr/local/lib/python3.10/dist-packages (from transformers) (3.16.1)\n",
            "Requirement already satisfied: huggingface-hub<1.0,>=0.23.2 in /usr/local/lib/python3.10/dist-packages (from transformers) (0.26.3)\n",
            "Requirement already satisfied: numpy>=1.17 in /usr/local/lib/python3.10/dist-packages (from transformers) (1.26.4)\n",
            "Requirement already satisfied: packaging>=20.0 in /usr/local/lib/python3.10/dist-packages (from transformers) (24.2)\n",
            "Requirement already satisfied: pyyaml>=5.1 in /usr/local/lib/python3.10/dist-packages (from transformers) (6.0.2)\n",
            "Requirement already satisfied: regex!=2019.12.17 in /usr/local/lib/python3.10/dist-packages (from transformers) (2024.9.11)\n",
            "Requirement already satisfied: requests in /usr/local/lib/python3.10/dist-packages (from transformers) (2.32.3)\n",
            "Requirement already satisfied: tokenizers<0.21,>=0.20 in /usr/local/lib/python3.10/dist-packages (from transformers) (0.20.3)\n",
            "Requirement already satisfied: safetensors>=0.4.1 in /usr/local/lib/python3.10/dist-packages (from transformers) (0.4.5)\n",
            "Requirement already satisfied: tqdm>=4.27 in /usr/local/lib/python3.10/dist-packages (from transformers) (4.66.6)\n",
            "Requirement already satisfied: ipykernel>=4.5.1 in /usr/local/lib/python3.10/dist-packages (from ipywidgets) (5.5.6)\n",
            "Requirement already satisfied: ipython-genutils~=0.2.0 in /usr/local/lib/python3.10/dist-packages (from ipywidgets) (0.2.0)\n",
            "Requirement already satisfied: traitlets>=4.3.1 in /usr/local/lib/python3.10/dist-packages (from ipywidgets) (5.7.1)\n",
            "Requirement already satisfied: widgetsnbextension~=3.6.0 in /usr/local/lib/python3.10/dist-packages (from ipywidgets) (3.6.10)\n",
            "Requirement already satisfied: ipython>=4.0.0 in /usr/local/lib/python3.10/dist-packages (from ipywidgets) (7.34.0)\n",
            "Requirement already satisfied: jupyterlab-widgets>=1.0.0 in /usr/local/lib/python3.10/dist-packages (from ipywidgets) (3.0.13)\n",
            "Requirement already satisfied: fsspec>=2023.5.0 in /usr/local/lib/python3.10/dist-packages (from huggingface-hub<1.0,>=0.23.2->transformers) (2024.10.0)\n",
            "Requirement already satisfied: typing-extensions>=3.7.4.3 in /usr/local/lib/python3.10/dist-packages (from huggingface-hub<1.0,>=0.23.2->transformers) (4.12.2)\n",
            "Requirement already satisfied: jupyter-client in /usr/local/lib/python3.10/dist-packages (from ipykernel>=4.5.1->ipywidgets) (6.1.12)\n",
            "Requirement already satisfied: tornado>=4.2 in /usr/local/lib/python3.10/dist-packages (from ipykernel>=4.5.1->ipywidgets) (6.3.3)\n",
            "Requirement already satisfied: setuptools>=18.5 in /usr/local/lib/python3.10/dist-packages (from ipython>=4.0.0->ipywidgets) (75.1.0)\n",
            "Collecting jedi>=0.16 (from ipython>=4.0.0->ipywidgets)\n",
            "  Downloading jedi-0.19.2-py2.py3-none-any.whl.metadata (22 kB)\n",
            "Requirement already satisfied: decorator in /usr/local/lib/python3.10/dist-packages (from ipython>=4.0.0->ipywidgets) (4.4.2)\n",
            "Requirement already satisfied: pickleshare in /usr/local/lib/python3.10/dist-packages (from ipython>=4.0.0->ipywidgets) (0.7.5)\n",
            "Requirement already satisfied: prompt-toolkit!=3.0.0,!=3.0.1,<3.1.0,>=2.0.0 in /usr/local/lib/python3.10/dist-packages (from ipython>=4.0.0->ipywidgets) (3.0.48)\n",
            "Requirement already satisfied: pygments in /usr/local/lib/python3.10/dist-packages (from ipython>=4.0.0->ipywidgets) (2.18.0)\n",
            "Requirement already satisfied: backcall in /usr/local/lib/python3.10/dist-packages (from ipython>=4.0.0->ipywidgets) (0.2.0)\n",
            "Requirement already satisfied: matplotlib-inline in /usr/local/lib/python3.10/dist-packages (from ipython>=4.0.0->ipywidgets) (0.1.7)\n",
            "Requirement already satisfied: pexpect>4.3 in /usr/local/lib/python3.10/dist-packages (from ipython>=4.0.0->ipywidgets) (4.9.0)\n",
            "Requirement already satisfied: notebook>=4.4.1 in /usr/local/lib/python3.10/dist-packages (from widgetsnbextension~=3.6.0->ipywidgets) (6.5.5)\n",
            "Requirement already satisfied: charset-normalizer<4,>=2 in /usr/local/lib/python3.10/dist-packages (from requests->transformers) (3.4.0)\n",
            "Requirement already satisfied: idna<4,>=2.5 in /usr/local/lib/python3.10/dist-packages (from requests->transformers) (3.10)\n",
            "Requirement already satisfied: urllib3<3,>=1.21.1 in /usr/local/lib/python3.10/dist-packages (from requests->transformers) (2.2.3)\n",
            "Requirement already satisfied: certifi>=2017.4.17 in /usr/local/lib/python3.10/dist-packages (from requests->transformers) (2024.8.30)\n",
            "Requirement already satisfied: parso<0.9.0,>=0.8.4 in /usr/local/lib/python3.10/dist-packages (from jedi>=0.16->ipython>=4.0.0->ipywidgets) (0.8.4)\n",
            "Requirement already satisfied: jinja2 in /usr/local/lib/python3.10/dist-packages (from notebook>=4.4.1->widgetsnbextension~=3.6.0->ipywidgets) (3.1.4)\n",
            "Requirement already satisfied: pyzmq<25,>=17 in /usr/local/lib/python3.10/dist-packages (from notebook>=4.4.1->widgetsnbextension~=3.6.0->ipywidgets) (24.0.1)\n",
            "Requirement already satisfied: argon2-cffi in /usr/local/lib/python3.10/dist-packages (from notebook>=4.4.1->widgetsnbextension~=3.6.0->ipywidgets) (23.1.0)\n",
            "Requirement already satisfied: jupyter-core>=4.6.1 in /usr/local/lib/python3.10/dist-packages (from notebook>=4.4.1->widgetsnbextension~=3.6.0->ipywidgets) (5.7.2)\n",
            "Requirement already satisfied: nbformat in /usr/local/lib/python3.10/dist-packages (from notebook>=4.4.1->widgetsnbextension~=3.6.0->ipywidgets) (5.10.4)\n",
            "Requirement already satisfied: nbconvert>=5 in /usr/local/lib/python3.10/dist-packages (from notebook>=4.4.1->widgetsnbextension~=3.6.0->ipywidgets) (7.16.4)\n",
            "Requirement already satisfied: nest-asyncio>=1.5 in /usr/local/lib/python3.10/dist-packages (from notebook>=4.4.1->widgetsnbextension~=3.6.0->ipywidgets) (1.6.0)\n",
            "Requirement already satisfied: Send2Trash>=1.8.0 in /usr/local/lib/python3.10/dist-packages (from notebook>=4.4.1->widgetsnbextension~=3.6.0->ipywidgets) (1.8.3)\n",
            "Requirement already satisfied: terminado>=0.8.3 in /usr/local/lib/python3.10/dist-packages (from notebook>=4.4.1->widgetsnbextension~=3.6.0->ipywidgets) (0.18.1)\n",
            "Requirement already satisfied: prometheus-client in /usr/local/lib/python3.10/dist-packages (from notebook>=4.4.1->widgetsnbextension~=3.6.0->ipywidgets) (0.21.1)\n",
            "Requirement already satisfied: nbclassic>=0.4.7 in /usr/local/lib/python3.10/dist-packages (from notebook>=4.4.1->widgetsnbextension~=3.6.0->ipywidgets) (1.1.0)\n",
            "Requirement already satisfied: python-dateutil>=2.1 in /usr/local/lib/python3.10/dist-packages (from jupyter-client->ipykernel>=4.5.1->ipywidgets) (2.8.2)\n",
            "Requirement already satisfied: ptyprocess>=0.5 in /usr/local/lib/python3.10/dist-packages (from pexpect>4.3->ipython>=4.0.0->ipywidgets) (0.7.0)\n",
            "Requirement already satisfied: wcwidth in /usr/local/lib/python3.10/dist-packages (from prompt-toolkit!=3.0.0,!=3.0.1,<3.1.0,>=2.0.0->ipython>=4.0.0->ipywidgets) (0.2.13)\n",
            "Requirement already satisfied: platformdirs>=2.5 in /usr/local/lib/python3.10/dist-packages (from jupyter-core>=4.6.1->notebook>=4.4.1->widgetsnbextension~=3.6.0->ipywidgets) (4.3.6)\n",
            "Requirement already satisfied: notebook-shim>=0.2.3 in /usr/local/lib/python3.10/dist-packages (from nbclassic>=0.4.7->notebook>=4.4.1->widgetsnbextension~=3.6.0->ipywidgets) (0.2.4)\n",
            "Requirement already satisfied: beautifulsoup4 in /usr/local/lib/python3.10/dist-packages (from nbconvert>=5->notebook>=4.4.1->widgetsnbextension~=3.6.0->ipywidgets) (4.12.3)\n",
            "Requirement already satisfied: bleach!=5.0.0 in /usr/local/lib/python3.10/dist-packages (from nbconvert>=5->notebook>=4.4.1->widgetsnbextension~=3.6.0->ipywidgets) (6.2.0)\n",
            "Requirement already satisfied: defusedxml in /usr/local/lib/python3.10/dist-packages (from nbconvert>=5->notebook>=4.4.1->widgetsnbextension~=3.6.0->ipywidgets) (0.7.1)\n",
            "Requirement already satisfied: jupyterlab-pygments in /usr/local/lib/python3.10/dist-packages (from nbconvert>=5->notebook>=4.4.1->widgetsnbextension~=3.6.0->ipywidgets) (0.3.0)\n",
            "Requirement already satisfied: markupsafe>=2.0 in /usr/local/lib/python3.10/dist-packages (from nbconvert>=5->notebook>=4.4.1->widgetsnbextension~=3.6.0->ipywidgets) (3.0.2)\n",
            "Requirement already satisfied: mistune<4,>=2.0.3 in /usr/local/lib/python3.10/dist-packages (from nbconvert>=5->notebook>=4.4.1->widgetsnbextension~=3.6.0->ipywidgets) (3.0.2)\n",
            "Requirement already satisfied: nbclient>=0.5.0 in /usr/local/lib/python3.10/dist-packages (from nbconvert>=5->notebook>=4.4.1->widgetsnbextension~=3.6.0->ipywidgets) (0.10.1)\n",
            "Requirement already satisfied: pandocfilters>=1.4.1 in /usr/local/lib/python3.10/dist-packages (from nbconvert>=5->notebook>=4.4.1->widgetsnbextension~=3.6.0->ipywidgets) (1.5.1)\n",
            "Requirement already satisfied: tinycss2 in /usr/local/lib/python3.10/dist-packages (from nbconvert>=5->notebook>=4.4.1->widgetsnbextension~=3.6.0->ipywidgets) (1.4.0)\n",
            "Requirement already satisfied: fastjsonschema>=2.15 in /usr/local/lib/python3.10/dist-packages (from nbformat->notebook>=4.4.1->widgetsnbextension~=3.6.0->ipywidgets) (2.21.1)\n",
            "Requirement already satisfied: jsonschema>=2.6 in /usr/local/lib/python3.10/dist-packages (from nbformat->notebook>=4.4.1->widgetsnbextension~=3.6.0->ipywidgets) (4.23.0)\n",
            "Requirement already satisfied: six>=1.5 in /usr/local/lib/python3.10/dist-packages (from python-dateutil>=2.1->jupyter-client->ipykernel>=4.5.1->ipywidgets) (1.16.0)\n",
            "Requirement already satisfied: argon2-cffi-bindings in /usr/local/lib/python3.10/dist-packages (from argon2-cffi->notebook>=4.4.1->widgetsnbextension~=3.6.0->ipywidgets) (21.2.0)\n",
            "Requirement already satisfied: webencodings in /usr/local/lib/python3.10/dist-packages (from bleach!=5.0.0->nbconvert>=5->notebook>=4.4.1->widgetsnbextension~=3.6.0->ipywidgets) (0.5.1)\n",
            "Requirement already satisfied: attrs>=22.2.0 in /usr/local/lib/python3.10/dist-packages (from jsonschema>=2.6->nbformat->notebook>=4.4.1->widgetsnbextension~=3.6.0->ipywidgets) (24.2.0)\n",
            "Requirement already satisfied: jsonschema-specifications>=2023.03.6 in /usr/local/lib/python3.10/dist-packages (from jsonschema>=2.6->nbformat->notebook>=4.4.1->widgetsnbextension~=3.6.0->ipywidgets) (2024.10.1)\n",
            "Requirement already satisfied: referencing>=0.28.4 in /usr/local/lib/python3.10/dist-packages (from jsonschema>=2.6->nbformat->notebook>=4.4.1->widgetsnbextension~=3.6.0->ipywidgets) (0.35.1)\n",
            "Requirement already satisfied: rpds-py>=0.7.1 in /usr/local/lib/python3.10/dist-packages (from jsonschema>=2.6->nbformat->notebook>=4.4.1->widgetsnbextension~=3.6.0->ipywidgets) (0.22.3)\n",
            "Requirement already satisfied: jupyter-server<3,>=1.8 in /usr/local/lib/python3.10/dist-packages (from notebook-shim>=0.2.3->nbclassic>=0.4.7->notebook>=4.4.1->widgetsnbextension~=3.6.0->ipywidgets) (1.24.0)\n",
            "Requirement already satisfied: cffi>=1.0.1 in /usr/local/lib/python3.10/dist-packages (from argon2-cffi-bindings->argon2-cffi->notebook>=4.4.1->widgetsnbextension~=3.6.0->ipywidgets) (1.17.1)\n",
            "Requirement already satisfied: soupsieve>1.2 in /usr/local/lib/python3.10/dist-packages (from beautifulsoup4->nbconvert>=5->notebook>=4.4.1->widgetsnbextension~=3.6.0->ipywidgets) (2.6)\n",
            "Requirement already satisfied: pycparser in /usr/local/lib/python3.10/dist-packages (from cffi>=1.0.1->argon2-cffi-bindings->argon2-cffi->notebook>=4.4.1->widgetsnbextension~=3.6.0->ipywidgets) (2.22)\n",
            "Requirement already satisfied: anyio<4,>=3.1.0 in /usr/local/lib/python3.10/dist-packages (from jupyter-server<3,>=1.8->notebook-shim>=0.2.3->nbclassic>=0.4.7->notebook>=4.4.1->widgetsnbextension~=3.6.0->ipywidgets) (3.7.1)\n",
            "Requirement already satisfied: websocket-client in /usr/local/lib/python3.10/dist-packages (from jupyter-server<3,>=1.8->notebook-shim>=0.2.3->nbclassic>=0.4.7->notebook>=4.4.1->widgetsnbextension~=3.6.0->ipywidgets) (1.8.0)\n",
            "Requirement already satisfied: sniffio>=1.1 in /usr/local/lib/python3.10/dist-packages (from anyio<4,>=3.1.0->jupyter-server<3,>=1.8->notebook-shim>=0.2.3->nbclassic>=0.4.7->notebook>=4.4.1->widgetsnbextension~=3.6.0->ipywidgets) (1.3.1)\n",
            "Requirement already satisfied: exceptiongroup in /usr/local/lib/python3.10/dist-packages (from anyio<4,>=3.1.0->jupyter-server<3,>=1.8->notebook-shim>=0.2.3->nbclassic>=0.4.7->notebook>=4.4.1->widgetsnbextension~=3.6.0->ipywidgets) (1.2.2)\n",
            "Downloading jedi-0.19.2-py2.py3-none-any.whl (1.6 MB)\n",
            "\u001b[2K   \u001b[90m━━━━━━━━━━━━━━━━━━━━━━━━━━━━━━━━━━━━━━━━\u001b[0m \u001b[32m1.6/1.6 MB\u001b[0m \u001b[31m12.2 MB/s\u001b[0m eta \u001b[36m0:00:00\u001b[0m\n",
            "\u001b[?25hInstalling collected packages: jedi\n",
            "Successfully installed jedi-0.19.2\n"
          ]
        }
      ],
      "source": [
        "! pip install mistralai\n",
        "!pip install transformers ipywidgets"
      ]
    },
    {
      "cell_type": "markdown",
      "source": [
        "# Solicitar Clave Mistral"
      ],
      "metadata": {
        "id": "qTG1hGZjE6ij"
      }
    },
    {
      "cell_type": "code",
      "source": [
        "from IPython.display import display, HTML, Javascript\n",
        "from transformers import AutoModelForCausalLM, AutoTokenizer\n",
        "\n",
        "# Interfaz para ingresar la API key\n",
        "def request_api_key():\n",
        "    input_html = \"\"\"\n",
        "    <div style=\"font-family: Arial; margin: 10px; padding: 10px; border: 1px solid #ddd; border-radius: 5px;\">\n",
        "        <h3>Proveer API Key</h3>\n",
        "        <p>Por favor, ingrese su API key de Mistral en el siguiente campo:</p>\n",
        "        <input type=\"password\" id=\"apiKeyInput\" placeholder=\"Ingrese su API key aquí\" style=\"width: 100%; padding: 8px; margin-bottom: 10px;\">\n",
        "        <button onclick=\"storeApiKey()\" style=\"padding: 10px 15px; background-color: #007BFF; color: white; border: none; border-radius: 3px; cursor: pointer;\">Guardar API Key</button>\n",
        "    </div>\n",
        "    <script>\n",
        "        function storeApiKey() {\n",
        "            const apiKey = document.getElementById('apiKeyInput').value;\n",
        "            if (apiKey) {\n",
        "                google.colab.kernel.invokeFunction('notebook.store_api_key', [apiKey], {});\n",
        "                alert('API key almacenada correctamente.');\n",
        "            } else {\n",
        "                alert('Por favor, ingrese una API key válida.');\n",
        "            }\n",
        "        }\n",
        "    </script>\n",
        "    \"\"\"\n",
        "    display(HTML(input_html))\n",
        "\n",
        "# Callback para almacenar la API key en el entorno Python\n",
        "def store_api_key(api_key):\n",
        "    global mistral_api_key\n",
        "    mistral_api_key = api_key\n",
        "    print(\"API key almacenada correctamente.\")\n",
        "\n",
        "# Registrar la función en Google Colab\n",
        "from google.colab import output\n",
        "output.register_callback('notebook.store_api_key', store_api_key)\n",
        "\n",
        "# Solicitar la API key al usuario\n",
        "request_api_key()\n"
      ],
      "metadata": {
        "colab": {
          "base_uri": "https://localhost:8080/",
          "height": 222
        },
        "id": "NKg244YLD-v1",
        "outputId": "de59e00a-7029-4fc6-ad2a-a39f8b2fc331"
      },
      "execution_count": 2,
      "outputs": [
        {
          "output_type": "display_data",
          "data": {
            "text/plain": [
              "<IPython.core.display.HTML object>"
            ],
            "text/html": [
              "\n",
              "    <div style=\"font-family: Arial; margin: 10px; padding: 10px; border: 1px solid #ddd; border-radius: 5px;\">\n",
              "        <h3>Proveer API Key</h3>\n",
              "        <p>Por favor, ingrese su API key de Mistral en el siguiente campo:</p>\n",
              "        <input type=\"password\" id=\"apiKeyInput\" placeholder=\"Ingrese su API key aquí\" style=\"width: 100%; padding: 8px; margin-bottom: 10px;\">\n",
              "        <button onclick=\"storeApiKey()\" style=\"padding: 10px 15px; background-color: #007BFF; color: white; border: none; border-radius: 3px; cursor: pointer;\">Guardar API Key</button>\n",
              "    </div>\n",
              "    <script>\n",
              "        function storeApiKey() {\n",
              "            const apiKey = document.getElementById('apiKeyInput').value;\n",
              "            if (apiKey) {\n",
              "                google.colab.kernel.invokeFunction('notebook.store_api_key', [apiKey], {});\n",
              "                alert('API key almacenada correctamente.');\n",
              "            } else {\n",
              "                alert('Por favor, ingrese una API key válida.');\n",
              "            }\n",
              "        }\n",
              "    </script>\n",
              "    "
            ]
          },
          "metadata": {}
        },
        {
          "output_type": "stream",
          "name": "stdout",
          "text": [
            "API key almacenada correctamente.\n"
          ]
        }
      ]
    },
    {
      "cell_type": "markdown",
      "source": [
        "# Carga nodelo de Mistral"
      ],
      "metadata": {
        "id": "Yhc6oyYYLISV"
      }
    },
    {
      "cell_type": "code",
      "source": [
        "import requests\n",
        "\n",
        "# Define la función para interactuar con la API de Mistral\n",
        "def run_mistral(user_message, model=\"mistral-large-latest\", api_key=None):\n",
        "    if not api_key:\n",
        "        raise ValueError(\"Por favor, proporciona una API key válida para Mistral.\")\n",
        "\n",
        "    # URL base de la API (esto puede variar dependiendo de la documentación de Mistral)\n",
        "    api_url = f\"https://api.mistral.ai/v1/chat/completions\"\n",
        "\n",
        "    # Configura el payload para la solicitud\n",
        "    payload = {\n",
        "        \"model\": model,\n",
        "        \"messages\": [\n",
        "            {\"role\": \"user\", \"content\": user_message}\n",
        "        ]\n",
        "    }\n",
        "\n",
        "    # Cabeceras de autenticación\n",
        "    headers = {\n",
        "        \"Authorization\": f\"Bearer {api_key}\",\n",
        "        \"Content-Type\": \"application/json\"\n",
        "    }\n",
        "\n",
        "    # Envía la solicitud POST\n",
        "    response = requests.post(api_url, json=payload, headers=headers)\n",
        "\n",
        "    # Manejo de errores\n",
        "    if response.status_code != 200:\n",
        "        raise Exception(f\"Error en la API de Mistral: {response.status_code} {response.text}\")\n",
        "\n",
        "    # Devuelve la respuesta generada\n",
        "    response_data = response.json()\n",
        "    return response_data[\"choices\"][0][\"message\"][\"content\"]\n",
        "\n"
      ],
      "metadata": {
        "id": "xrFLGx0ZED3Q"
      },
      "execution_count": 5,
      "outputs": []
    },
    {
      "cell_type": "markdown",
      "source": [
        "# Prompt master del agente"
      ],
      "metadata": {
        "id": "kbgpYQQ9LMNL"
      }
    },
    {
      "cell_type": "code",
      "source": [
        "!wget https://raw.githubusercontent.com/davidlealo/asistenteabp/refs/heads/main/prompt.xml"
      ],
      "metadata": {
        "colab": {
          "base_uri": "https://localhost:8080/"
        },
        "id": "x74L3C1HLOHX",
        "outputId": "44530a8e-01d5-4c57-c9b1-3bb299509bbb"
      },
      "execution_count": 7,
      "outputs": [
        {
          "output_type": "stream",
          "name": "stdout",
          "text": [
            "--2024-12-10 10:45:57--  https://raw.githubusercontent.com/davidlealo/asistenteabp/refs/heads/main/prompt.xml\n",
            "Resolving raw.githubusercontent.com (raw.githubusercontent.com)... 185.199.109.133, 185.199.110.133, 185.199.108.133, ...\n",
            "Connecting to raw.githubusercontent.com (raw.githubusercontent.com)|185.199.109.133|:443... connected.\n",
            "HTTP request sent, awaiting response... 200 OK\n",
            "Length: 5176 (5.1K) [text/plain]\n",
            "Saving to: ‘prompt.xml’\n",
            "\n",
            "prompt.xml          100%[===================>]   5.05K  --.-KB/s    in 0s      \n",
            "\n",
            "2024-12-10 10:45:58 (60.8 MB/s) - ‘prompt.xml’ saved [5176/5176]\n",
            "\n"
          ]
        }
      ]
    },
    {
      "cell_type": "markdown",
      "source": [
        "# Interactuar con el agente: Opción uno"
      ],
      "metadata": {
        "id": "4AFMV6tpMiLZ"
      }
    },
    {
      "cell_type": "code",
      "source": [
        "from IPython.display import display, HTML\n",
        "from google.colab import output\n",
        "import requests\n",
        "\n",
        "# Verifica si la API key ya está almacenada\n",
        "if 'mistral_api_key' not in globals():\n",
        "    print(\"Por favor, asegúrate de haber configurado tu API key antes de continuar.\")\n",
        "\n",
        "# Solicitar datos del proyecto al usuario\n",
        "def request_project_details():\n",
        "    html = \"\"\"\n",
        "    <div>\n",
        "        <h3>Detalles del Proyecto</h3>\n",
        "        <label>Objetivos de Aprendizaje:</label><br>\n",
        "        <textarea id=\"learning_objectives\" style=\"width: 100%; height: 60px;\"></textarea><br>\n",
        "        <label>Asignaturas involucradas:</label><br>\n",
        "        <textarea id=\"subjects\" style=\"width: 100%; height: 60px;\"></textarea><br>\n",
        "        <label>Otros detalles relevantes:</label><br>\n",
        "        <textarea id=\"details\" style=\"width: 100%; height: 60px;\"></textarea><br><br>\n",
        "        <button onclick=\"submitDetails()\">Generar Proyecto</button>\n",
        "    </div>\n",
        "    <script>\n",
        "        function submitDetails() {\n",
        "            const learningObjectives = document.getElementById(\"learning_objectives\").value;\n",
        "            const subjects = document.getElementById(\"subjects\").value;\n",
        "            const details = document.getElementById(\"details\").value;\n",
        "            google.colab.kernel.invokeFunction(\"notebook.generate_project\", [learningObjectives, subjects, details], {});\n",
        "        }\n",
        "    </script>\n",
        "    \"\"\"\n",
        "    display(HTML(html))\n",
        "\n",
        "# Callback para generar el proyecto\n",
        "def generate_project(learning_objectives, subjects, details):\n",
        "    if 'mistral_api_key' not in globals() or not mistral_api_key:\n",
        "        print(\"Error: No se encontró una API key válida. Por favor, configura tu API key.\")\n",
        "        return\n",
        "\n",
        "    # Crear el prompt para Mistral\n",
        "    prompt = f\"\"\"\n",
        "    Utiliza el siguiente contexto para crear un proyecto basado en ABP:\n",
        "    Objetivos de Aprendizaje: {learning_objectives}\n",
        "    Asignaturas: {subjects}\n",
        "    Detalles Adicionales: {details}\n",
        "\n",
        "    Sigue el estándar del Gold Standard de PBLWorks y proporciona:\n",
        "    - Título del Proyecto\n",
        "    - Pregunta guía\n",
        "    - Secuencia de Actividades\n",
        "    - Estrategias de Evaluación\n",
        "    \"\"\"\n",
        "\n",
        "    # Llamar a la API de Mistral\n",
        "    headers = {\n",
        "        \"Authorization\": f\"Bearer {mistral_api_key}\",\n",
        "        \"Content-Type\": \"application/json\"\n",
        "    }\n",
        "    data = {\n",
        "        \"model\": \"mistral-large-latest\",\n",
        "        \"messages\": [{\"role\": \"user\", \"content\": prompt}]\n",
        "    }\n",
        "    response = requests.post(\"https://api.mistral.ai/v1/chat/completions\", json=data, headers=headers)\n",
        "\n",
        "    # Procesar respuesta\n",
        "    if response.status_code == 200:\n",
        "        project = response.json()[\"choices\"][0][\"message\"][\"content\"]\n",
        "        print(\"Proyecto generado:\")\n",
        "        print(project)\n",
        "    else:\n",
        "        print(f\"Error al generar el proyecto: {response.status_code} - {response.text}\")\n",
        "\n",
        "# Registrar la función en Colab\n",
        "output.register_callback(\"notebook.generate_project\", generate_project)\n",
        "\n",
        "# Solicitar detalles del proyecto al usuario\n",
        "request_project_details()\n"
      ],
      "metadata": {
        "colab": {
          "base_uri": "https://localhost:8080/",
          "height": 1000
        },
        "id": "WHKEuad0Mj7t",
        "outputId": "bccfa925-da96-4aff-ce62-138561c06397"
      },
      "execution_count": 9,
      "outputs": [
        {
          "output_type": "display_data",
          "data": {
            "text/plain": [
              "<IPython.core.display.HTML object>"
            ],
            "text/html": [
              "\n",
              "    <div>\n",
              "        <h3>Detalles del Proyecto</h3>\n",
              "        <label>Objetivos de Aprendizaje:</label><br>\n",
              "        <textarea id=\"learning_objectives\" style=\"width: 100%; height: 60px;\"></textarea><br>\n",
              "        <label>Asignaturas involucradas:</label><br>\n",
              "        <textarea id=\"subjects\" style=\"width: 100%; height: 60px;\"></textarea><br>\n",
              "        <label>Otros detalles relevantes:</label><br>\n",
              "        <textarea id=\"details\" style=\"width: 100%; height: 60px;\"></textarea><br><br>\n",
              "        <button onclick=\"submitDetails()\">Generar Proyecto</button>\n",
              "    </div>\n",
              "    <script>\n",
              "        function submitDetails() {\n",
              "            const learningObjectives = document.getElementById(\"learning_objectives\").value;\n",
              "            const subjects = document.getElementById(\"subjects\").value;\n",
              "            const details = document.getElementById(\"details\").value;\n",
              "            google.colab.kernel.invokeFunction(\"notebook.generate_project\", [learningObjectives, subjects, details], {});\n",
              "        }\n",
              "    </script>\n",
              "    "
            ]
          },
          "metadata": {}
        },
        {
          "output_type": "stream",
          "name": "stdout",
          "text": [
            "Proyecto generado:\n",
            "**Título del Proyecto:**\n",
            "\"Filosofía y Ciencia para un Futuro Sostenible\"\n",
            "\n",
            "**Pregunta Guía:**\n",
            "¿Cómo podemos aplicar principios filosóficos y científicos para abordar el cambio climático y promover la sostenibilidad en nuestra comunidad?\n",
            "\n",
            "**Secuencia de Actividades:**\n",
            "\n",
            "1. **Introducción y Contextualización (Semana 1-2):**\n",
            "   - **Actividad:** Introducción a los conceptos de cambio climático y sostenibilidad.\n",
            "   - **Objetivo:** Comprender los problemas actuales relacionados con el cambio climático y la sostenibilidad.\n",
            "   - **Recursos:** Videos documentales, artículos científicos, y discusiones en clase.\n",
            "\n",
            "2. **Exploración Filosófica (Semana 3-4):**\n",
            "   - **Actividad:** Análisis de textos filosóficos clásicos y contemporáneos sobre ética y responsabilidad.\n",
            "   - **Objetivo:** Desarrollar una comprensión crítica y reflexiva de los problemas filosóficos relacionados con la sostenibilidad.\n",
            "   - **Recursos:** Lecturas filosóficas, debates en clase, y reflexiones escritas.\n",
            "\n",
            "3. **Investigación Científica (Semana 5-6):**\n",
            "   - **Actividad:** Investigación y análisis de datos científicos sobre el cambio climático.\n",
            "   - **Objetivo:** Aplicar conceptos científicos para entender las causas y efectos del cambio climático.\n",
            "   - **Recursos:** Informes científicos, bases de datos, y herramientas de análisis.\n",
            "\n",
            "4. **Evaluación de Información en Medios de Comunicación (Semana 7-8):**\n",
            "   - **Actividad:** Evaluación crítica de artículos y reportajes sobre el cambio climático en medios de comunicación.\n",
            "   - **Objetivo:** Desarrollar habilidades para evaluar la validez y confiabilidad de la información científica.\n",
            "   - **Recursos:** Artículos de noticias, blogs científicos, y herramientas de verificación de hechos.\n",
            "\n",
            "5. **Propuesta de Soluciones (Semana 9-10):**\n",
            "   - **Actividad:** Desarrollo de propuestas de acción para abordar el cambio climático en la comunidad.\n",
            "   - **Objetivo:** Fomentar la autonomía del pensamiento y la argumentación para proponer soluciones viables.\n",
            "   - **Recursos:** Herramientas de planificación, estudios de caso, y colaboración con organizaciones locales.\n",
            "\n",
            "6. **Implementación y Reflexión (Semana 11-12):**\n",
            "   - **Actividad:** Implementación de una iniciativa de sostenibilidad en la comunidad y reflexión sobre el proceso.\n",
            "   - **Objetivo:** Evaluar la efectividad de las propuestas y reflexionar sobre el aprendizaje adquirido.\n",
            "   - **Recursos:** Evaluaciones de impacto, diarios de reflexión, y presentaciones finales.\n",
            "\n",
            "**Estrategias de Evaluación:**\n",
            "\n",
            "1. **Evaluación Formativa:**\n",
            "   - **Diarios de Reflexión:** Los estudiantes mantendrán diarios de reflexión durante todo el proyecto para registrar su aprendizaje y pensamientos críticos.\n",
            "   - **Debates y Discusiones:** Evaluación continua de la participación en debates y discusiones en clase.\n",
            "\n",
            "2. **Evaluación Sumativa:**\n",
            "   - **Informe de Investigación:** Los estudiantes presentarán un informe detallado de su investigación científica y análisis filosófico.\n",
            "   - **Propuesta de Soluciones:** Evaluación de las propuestas de acción desarrolladas por los estudiantes, considerando su viabilidad y argumentación.\n",
            "   - **Presentación Final:** Los estudiantes presentarán sus hallazgos y propuestas a la comunidad, incluyendo una reflexión sobre el impacto de sus iniciativas.\n",
            "\n",
            "3. **Autoevaluación y Coevaluación:**\n",
            "   - **Evaluación de Pares:** Los estudiantes evaluarán el trabajo de sus compañeros, proporcionando retroalimentación constructiva.\n",
            "   - **Autoevaluación:** Los estudiantes reflexionarán sobre su propio aprendizaje y contribución al proyecto.\n",
            "\n",
            "Este proyecto está diseñado para cumplir con el estándar del Gold Standard de PBLWorks, fomentando un aprendizaje profundo y significativo a través de la colaboración, la reflexión crítica y la aplicación práctica de conocimientos filosóficos y científicos.\n",
            "Proyecto generado:\n",
            "### Título del Proyecto\n",
            "**Filosofía y Ciencia para un Futuro Sostenible**\n",
            "\n",
            "### Pregunta Guía\n",
            "**¿Cómo podemos utilizar la filosofía y la ciencia para abordar y comprender el cambio climático y promover la sostenibilidad en nuestra comunidad?**\n",
            "\n",
            "### Secuencia de Actividades\n",
            "\n",
            "#### Actividad 1: Introducción y Reflexión Inicial\n",
            "**Objetivo:** Introducir a los estudiantes a los conceptos básicos de filosofía y ciencia, y su relevancia en la comprensión del cambio climático.\n",
            "- **Descripción:** Presentación inicial sobre los conceptos filosóficos y científicos relevantes.\n",
            "- **Duración:** 1 semana\n",
            "- **Recursos:** Lecturas sobre filosofía del cambio climático y ciencia ambiental.\n",
            "- **Evaluación:** Discución en clase y reflexión escrita sobre las lecturas.\n",
            "\n",
            "#### Actividad 2: Investigación y Análisis\n",
            "**Objetivo:** Realizar una investigación sobre el cambio climático desde perspectivas filosóficas y científicas.\n",
            "- **Descripción:** Los estudiantes investigarán sobre cómo el cambio climático ha sido abordado históricamente y cómo se está abordando actualmente.\n",
            "- **Duración:** 2 semanas\n",
            "- **Recursos:** Artículos científicos, documentales, y fuentes históricas.\n",
            "- **Evaluación:** Presentaciones en grupo sobre los hallazgos de la investigación.\n",
            "\n",
            "#### Actividad 3: Evaluación Crítica de Fuentes\n",
            "**Objetivo:** Desarrollar la capacidad crítica para evaluar la información presentada en los medios de comunicación.\n",
            "- **Descripción:** Los estudiantes seleccionarán y analizarán artículos de prensa, informes científicos y documentales sobre el cambio climático.\n",
            "- **Duración:** 1 semana\n",
            "- **Recursos:** Noticias, artículos de revistas científicas, y documentales.\n",
            "- **Evaluación:** Informe escrito sobre la validez y confiabilidad de las fuentes seleccionadas.\n",
            "\n",
            "#### Actividad 4: Debate Filosófico\n",
            "**Objetivo:** Fomentar la argumentación y el pensamiento crítico a través del debate filosófico.\n",
            "- **Descripción:** Organizar debates en clase sobre temas relacionados con el cambio climático y la sostenibilidad.\n",
            "- **Duración:** 1 semana\n",
            "- **Recursos:** Guías de debate, lecturas filosóficas.\n",
            "- **Evaluación:** Participación activa en los debates y reflexión escrita post-debate.\n",
            "\n",
            "#### Actividad 5: Proyecto de Acción Comunitaria\n",
            "**Objetivo:** Aplicar los conocimientos adquiridos para desarrollar un proyecto de sostenibilidad en la comunidad.\n",
            "- **Descripción:** Los estudiantes diseñarán y ejecutarán un proyecto comunitario que promueva la sostenibilidad.\n",
            "- **Duración:** 3 semanas\n",
            "- **Recursos:** Materiales para el proyecto, colaboración con organizaciones locales.\n",
            "- **Evaluación:** Presentación del proyecto y reflexión sobre el impacto y los desafíos encontrados.\n",
            "\n",
            "#### Actividad 6: Reflexión Final y Presentación\n",
            "**Objetivo:** Reflexionar sobre el proceso de aprendizaje y presentar los resultados del proyecto.\n",
            "- **Descripción:** Los estudiantes presentarán sus proyectos y reflexionarán sobre lo aprendido.\n",
            "- **Duración:** 1 semana\n",
            "- **Recursos:** Herramientas de presentación, guías de reflexión.\n",
            "- **Evaluación:** Presentación final y reflexión escrita sobre el aprendizaje adquirido.\n",
            "\n",
            "### Estrategias de Evaluación\n",
            "1. **Reflexiones Escritas:** Evaluación de las reflexiones escritas a lo largo del proyecto para medir la comprensión y el desarrollo crítico.\n",
            "2. **Presentaciones en Grupo:** Evaluación de las presentaciones en grupo para medir la capacidad de investigación y argumentación.\n",
            "3. **Participación en Debates:** Evaluación de la participación activa en los debates para medir la capacidad de argumentación y pensamiento crítico.\n",
            "4. **Informes de Evaluación de Fuentes:** Evaluación de los informes escritos sobre la validez y confiabilidad de las fuentes seleccionadas.\n",
            "5. **Proyecto de Acción Comunitaria:** Evaluación del diseño, ejecución e impacto del proyecto comunitario.\n",
            "6. **Presentación Final:** Evaluación de la presentación final del proyecto y la reflexión sobre el aprendizaje adquirido.\n",
            "\n",
            "Este proyecto está diseñado para fomentar una comprensión profunda y crítica de los problemas filosóficos y científicos relacionados con el cambio climático y la sostenibilidad, promoviendo la autonomía del pensamiento y la capacidad de argumentación en los estudiantes.\n"
          ]
        }
      ]
    },
    {
      "cell_type": "markdown",
      "source": [
        "# Interactuar con el agente: Opción dos"
      ],
      "metadata": {
        "id": "XXcjuisWNZJh"
      }
    },
    {
      "cell_type": "code",
      "source": [
        "from IPython.display import display, HTML, Markdown\n",
        "from google.colab import output\n",
        "import requests\n",
        "\n",
        "# Verifica si la API key ya está almacenada\n",
        "if 'mistral_api_key' not in globals():\n",
        "    print(\"Por favor, asegúrate de haber configurado tu API key antes de continuar.\")\n",
        "\n",
        "# Solicitar datos del proyecto al usuario\n",
        "def request_project_details():\n",
        "    html = \"\"\"\n",
        "    <div>\n",
        "        <h3>Detalles del Proyecto</h3>\n",
        "        <label>Objetivos de Aprendizaje:</label><br>\n",
        "        <textarea id=\"learning_objectives\" style=\"width: 100%; height: 60px;\"></textarea><br>\n",
        "        <label>Asignaturas involucradas:</label><br>\n",
        "        <textarea id=\"subjects\" style=\"width: 100%; height: 60px;\"></textarea><br>\n",
        "        <label>Otros detalles relevantes:</label><br>\n",
        "        <textarea id=\"details\" style=\"width: 100%; height: 60px;\"></textarea><br><br>\n",
        "        <button onclick=\"submitDetails()\">Generar Proyecto</button>\n",
        "    </div>\n",
        "    <script>\n",
        "        function submitDetails() {\n",
        "            const learningObjectives = document.getElementById(\"learning_objectives\").value;\n",
        "            const subjects = document.getElementById(\"subjects\").value;\n",
        "            const details = document.getElementById(\"details\").value;\n",
        "            google.colab.kernel.invokeFunction(\"notebook.generate_project\", [learningObjectives, subjects, details], {});\n",
        "        }\n",
        "    </script>\n",
        "    \"\"\"\n",
        "    display(HTML(html))\n",
        "\n",
        "# Callback para generar el proyecto\n",
        "def generate_project(learning_objectives, subjects, details):\n",
        "    if 'mistral_api_key' not in globals() or not mistral_api_key:\n",
        "        print(\"Error: No se encontró una API key válida. Por favor, configura tu API key.\")\n",
        "        return\n",
        "\n",
        "    # Crear el prompt para Mistral\n",
        "    prompt = f\"\"\"\n",
        "    Utiliza el siguiente contexto para crear un proyecto basado en ABP:\n",
        "    Objetivos de Aprendizaje: {learning_objectives}\n",
        "    Asignaturas: {subjects}\n",
        "    Detalles Adicionales: {details}\n",
        "\n",
        "    Sigue el estándar del Gold Standard de PBLWorks y proporciona:\n",
        "    - Título del Proyecto\n",
        "    - Pregunta guía\n",
        "    - Fase 1: Construir Conocimiento, Comprensión y Habilidades\n",
        "    - Fase 2: Desarrollar y Evaluar Productos y Respuestas\n",
        "    - Fase 3: Presentar Productos y Respuestas\n",
        "    \"\"\"\n",
        "\n",
        "    # Llamar a la API de Mistral\n",
        "    headers = {\n",
        "        \"Authorization\": f\"Bearer {mistral_api_key}\",\n",
        "        \"Content-Type\": \"application/json\"\n",
        "    }\n",
        "    data = {\n",
        "        \"model\": \"mistral-large-latest\",\n",
        "        \"messages\": [{\"role\": \"user\", \"content\": prompt}]\n",
        "    }\n",
        "    response = requests.post(\"https://api.mistral.ai/v1/chat/completions\", json=data, headers=headers)\n",
        "\n",
        "    # Procesar respuesta\n",
        "    if response.status_code == 200:\n",
        "        project = response.json()[\"choices\"][0][\"message\"][\"content\"]\n",
        "        # Mostrar el proyecto en formato Markdown\n",
        "        display(Markdown(f\"# Proyecto Generado\\n\\n{project}\"))\n",
        "    else:\n",
        "        print(f\"Error al generar el proyecto: {response.status_code} - {response.text}\")\n",
        "\n",
        "# Registrar la función en Colab\n",
        "output.register_callback(\"notebook.generate_project\", generate_project)\n",
        "\n",
        "# Solicitar detalles del proyecto al usuario\n",
        "request_project_details()\n"
      ],
      "metadata": {
        "colab": {
          "base_uri": "https://localhost:8080/",
          "height": 1000
        },
        "id": "vm_tj0-EO5nr",
        "outputId": "80a47674-6a7e-45c1-c866-8f6b14859552"
      },
      "execution_count": 12,
      "outputs": [
        {
          "output_type": "display_data",
          "data": {
            "text/plain": [
              "<IPython.core.display.HTML object>"
            ],
            "text/html": [
              "\n",
              "    <div>\n",
              "        <h3>Detalles del Proyecto</h3>\n",
              "        <label>Objetivos de Aprendizaje:</label><br>\n",
              "        <textarea id=\"learning_objectives\" style=\"width: 100%; height: 60px;\"></textarea><br>\n",
              "        <label>Asignaturas involucradas:</label><br>\n",
              "        <textarea id=\"subjects\" style=\"width: 100%; height: 60px;\"></textarea><br>\n",
              "        <label>Otros detalles relevantes:</label><br>\n",
              "        <textarea id=\"details\" style=\"width: 100%; height: 60px;\"></textarea><br><br>\n",
              "        <button onclick=\"submitDetails()\">Generar Proyecto</button>\n",
              "    </div>\n",
              "    <script>\n",
              "        function submitDetails() {\n",
              "            const learningObjectives = document.getElementById(\"learning_objectives\").value;\n",
              "            const subjects = document.getElementById(\"subjects\").value;\n",
              "            const details = document.getElementById(\"details\").value;\n",
              "            google.colab.kernel.invokeFunction(\"notebook.generate_project\", [learningObjectives, subjects, details], {});\n",
              "        }\n",
              "    </script>\n",
              "    "
            ]
          },
          "metadata": {}
        },
        {
          "output_type": "display_data",
          "data": {
            "text/plain": [
              "<IPython.core.display.Markdown object>"
            ],
            "text/markdown": "# Proyecto Generado\n\n### Proyecto Basado en Aprendizaje por Proyectos (ABP)\n\n#### Título del Proyecto\n**\"Pensamiento Crítico y Sostenibilidad: Una Mirada Filosófica y Científica al Cambio Climático\"**\n\n#### Pregunta Guía\n**\"¿Cómo podemos utilizar el pensamiento crítico y filosófico para abordar y mitigar los efectos del cambio climático en nuestra comunidad y en el mundo?\"**\n\n---\n\n### Fase 1: Construir Conocimiento, Comprensión y Habilidades\n\n#### Actividades y Metas:\n1. **Introducción al Pensamiento Crítico y Filosófico:**\n   - **Actividad:** Lectura y discusión de textos filosóficos clásicos y contemporáneos sobre ética, responsabilidad y sostenibilidad.\n   - **Meta:** Desarrollar una comprensión básica de conceptos filosóficos relevantes y su aplicación en problemas actuales.\n\n2. **Comprensión del Cambio Climático:**\n   - **Actividad:** Investigación y presentación de informes sobre las causas y efectos del cambio climático.\n   - **Meta:** Adquirir conocimientos científicos sobre el cambio climático y sus implicaciones globales.\n\n3. **Evaluación Crítica de Fuentes de Información:**\n   - **Actividad:** Análisis de artículos de medios de comunicación sobre cambio climático y sostenibilidad.\n   - **Meta:** Aprender a evaluar la validez y confiabilidad de la información científica.\n\n4. **Desarrollo de Habilidades Argumentativas:**\n   - **Actividad:** Debates y discusiones en grupo sobre soluciones posibles al cambio climático.\n   - **Meta:** Fomentar la autonomía del pensamiento y la capacidad de argumentar de manera efectiva.\n\n---\n\n### Fase 2: Desarrollar y Evaluar Productos y Respuestas\n\n#### Actividades y Metas:\n1. **Propuesta de Proyecto de Mitigación:**\n   - **Actividad:** Desarrollo de un proyecto de mitigación del cambio climático en la comunidad local.\n   - **Meta:** Aplicar conocimientos científicos y filosóficos para proponer soluciones prácticas y sostenibles.\n\n2. **Evaluación de Propuestas:**\n   - **Actividad:** Presentación y evaluación de propuestas de proyectos entre pares.\n   - **Meta:** Evaluar la viabilidad y el impacto de las propuestas utilizando criterios de validez y confiabilidad.\n\n3. **Creación de Materiales Educativos:**\n   - **Actividad:** Creación de materiales educativos (pósteres, videos, folletos) para sensibilizar a la comunidad sobre el cambio climático y las acciones de mitigación.\n   - **Meta:** Desarrollar habilidades de comunicación y producción de contenido educativo.\n\n4. **Reflexión y Autocrítica:**\n   - **Actividad:** Escritura de un ensayo reflexivo sobre el proceso de aprendizaje y las implicaciones éticas y filosóficas del proyecto.\n   - **Meta:** Fomentar la capacidad crítica y reflexiva en la comprensión de problemas filosóficos y científicos.\n\n---\n\n### Fase 3: Presentar Productos y Respuestas\n\n#### Actividades y Metas:\n1. **Presentación Final:**\n   - **Actividad:** Presentación de los proyectos de mitigación y materiales educativos a la comunidad escolar y local.\n   - **Meta:** Compartir los aprendizajes y propuestas con una audiencia más amplia y recibir retroalimentación.\n\n2. **Feria de Sostenibilidad:**\n   - **Actividad:** Organización de una feria de sostenibilidad donde los estudiantes presenten sus proyectos y materiales educativos.\n   - **Meta:** Promover la conciencia y la acción comunitaria en torno al cambio climático y la sostenibilidad.\n\n3. **Publicación de Resultados:**\n   - **Actividad:** Publicación de los ensayos reflexivos y los proyectos de mitigación en una revista escolar o blog.\n   - **Meta:** Documentar y difundir los logros y aprendizajes del proyecto.\n\n---\n\nEste proyecto sigue el estándar del Gold Standard de PBLWorks, asegurando que los estudiantes desarrollen habilidades críticas, éticas y reflexivas, mientras abordan problemas filosóficos y científicos relevantes tanto históricamente como en la vida contemporánea."
          },
          "metadata": {}
        }
      ]
    },
    {
      "cell_type": "markdown",
      "source": [
        "# Evaluar proyecto por parte del usuario"
      ],
      "metadata": {
        "id": "efygi1rINasd"
      }
    },
    {
      "cell_type": "code",
      "source": [
        "from IPython.display import display, HTML\n",
        "from google.colab import output\n",
        "import requests\n",
        "\n",
        "# Función para mostrar un formulario de evaluación basado en el Gold Standard\n",
        "def display_evaluation_form():\n",
        "    html = \"\"\"\n",
        "    <div style=\"font-family: Arial; padding: 10px;\">\n",
        "        <h3>Evaluación del Proyecto Generado</h3>\n",
        "        <p>Responde las siguientes preguntas clave:</p>\n",
        "\n",
        "        <label>1. ¿El proyecto incluye una pregunta o desafío claro y desafiante?</label><br>\n",
        "        <textarea id=\"q1\" style=\"width: 100%; height: 60px;\"></textarea><br><br>\n",
        "\n",
        "        <label>2. ¿El proyecto permite una investigación sostenida y rigurosa?</label><br>\n",
        "        <textarea id=\"q2\" style=\"width: 100%; height: 60px;\"></textarea><br><br>\n",
        "\n",
        "        <label>3. ¿Se observa autenticidad en el proyecto?</label><br>\n",
        "        <textarea id=\"q3\" style=\"width: 100%; height: 60px;\"></textarea><br><br>\n",
        "\n",
        "        <label>4. ¿El proyecto otorga voz y elección a los estudiantes?</label><br>\n",
        "        <textarea id=\"q4\" style=\"width: 100%; height: 60px;\"></textarea><br><br>\n",
        "\n",
        "        <label>5. ¿Se promueve la reflexión durante el proyecto?</label><br>\n",
        "        <textarea id=\"q5\" style=\"width: 100%; height: 60px;\"></textarea><br><br>\n",
        "\n",
        "        <label>6. ¿Incluye oportunidades para crítica y revisión?</label><br>\n",
        "        <textarea id=\"q6\" style=\"width: 100%; height: 60px;\"></textarea><br><br>\n",
        "\n",
        "        <label>7. ¿Los productos generados se comparten públicamente?</label><br>\n",
        "        <textarea id=\"q7\" style=\"width: 100%; height: 60px;\"></textarea><br><br>\n",
        "\n",
        "        <button onclick=\"submitEvaluation()\">Enviar Evaluación</button>\n",
        "    </div>\n",
        "    <script>\n",
        "        function submitEvaluation() {\n",
        "            const responses = {\n",
        "                q1: document.getElementById('q1').value,\n",
        "                q2: document.getElementById('q2').value,\n",
        "                q3: document.getElementById('q3').value,\n",
        "                q4: document.getElementById('q4').value,\n",
        "                q5: document.getElementById('q5').value,\n",
        "                q6: document.getElementById('q6').value,\n",
        "                q7: document.getElementById('q7').value,\n",
        "            };\n",
        "            google.colab.kernel.invokeFunction(\"notebook.evaluate_project\", [responses], {});\n",
        "        }\n",
        "    </script>\n",
        "    \"\"\"\n",
        "    display(HTML(html))\n",
        "\n",
        "# Callback para procesar la evaluación\n",
        "def evaluate_project(responses):\n",
        "    print(\"Evaluación recibida:\")\n",
        "    for key, response in responses.items():\n",
        "        print(f\"{key}: {response}\")\n",
        "\n",
        "# Registrar la función en Google Colab\n",
        "output.register_callback(\"notebook.evaluate_project\", evaluate_project)\n",
        "\n",
        "# Mostrar el formulario de evaluación\n",
        "display_evaluation_form()\n"
      ],
      "metadata": {
        "colab": {
          "base_uri": "https://localhost:8080/",
          "height": 1000
        },
        "id": "denX2C34NSkB",
        "outputId": "d21a81d1-c5c2-4f55-95e5-ced668fad679"
      },
      "execution_count": 13,
      "outputs": [
        {
          "output_type": "display_data",
          "data": {
            "text/plain": [
              "<IPython.core.display.HTML object>"
            ],
            "text/html": [
              "\n",
              "    <div style=\"font-family: Arial; padding: 10px;\">\n",
              "        <h3>Evaluación del Proyecto Generado</h3>\n",
              "        <p>Responde las siguientes preguntas clave:</p>\n",
              "        \n",
              "        <label>1. ¿El proyecto incluye una pregunta o desafío claro y desafiante?</label><br>\n",
              "        <textarea id=\"q1\" style=\"width: 100%; height: 60px;\"></textarea><br><br>\n",
              "        \n",
              "        <label>2. ¿El proyecto permite una investigación sostenida y rigurosa?</label><br>\n",
              "        <textarea id=\"q2\" style=\"width: 100%; height: 60px;\"></textarea><br><br>\n",
              "        \n",
              "        <label>3. ¿Se observa autenticidad en el proyecto?</label><br>\n",
              "        <textarea id=\"q3\" style=\"width: 100%; height: 60px;\"></textarea><br><br>\n",
              "        \n",
              "        <label>4. ¿El proyecto otorga voz y elección a los estudiantes?</label><br>\n",
              "        <textarea id=\"q4\" style=\"width: 100%; height: 60px;\"></textarea><br><br>\n",
              "        \n",
              "        <label>5. ¿Se promueve la reflexión durante el proyecto?</label><br>\n",
              "        <textarea id=\"q5\" style=\"width: 100%; height: 60px;\"></textarea><br><br>\n",
              "        \n",
              "        <label>6. ¿Incluye oportunidades para crítica y revisión?</label><br>\n",
              "        <textarea id=\"q6\" style=\"width: 100%; height: 60px;\"></textarea><br><br>\n",
              "        \n",
              "        <label>7. ¿Los productos generados se comparten públicamente?</label><br>\n",
              "        <textarea id=\"q7\" style=\"width: 100%; height: 60px;\"></textarea><br><br>\n",
              "        \n",
              "        <button onclick=\"submitEvaluation()\">Enviar Evaluación</button>\n",
              "    </div>\n",
              "    <script>\n",
              "        function submitEvaluation() {\n",
              "            const responses = {\n",
              "                q1: document.getElementById('q1').value,\n",
              "                q2: document.getElementById('q2').value,\n",
              "                q3: document.getElementById('q3').value,\n",
              "                q4: document.getElementById('q4').value,\n",
              "                q5: document.getElementById('q5').value,\n",
              "                q6: document.getElementById('q6').value,\n",
              "                q7: document.getElementById('q7').value,\n",
              "            };\n",
              "            google.colab.kernel.invokeFunction(\"notebook.evaluate_project\", [responses], {});\n",
              "        }\n",
              "    </script>\n",
              "    "
            ]
          },
          "metadata": {}
        },
        {
          "output_type": "stream",
          "name": "stdout",
          "text": [
            "Evaluación recibida:\n",
            "q1: Si\n",
            "q2: Falta mas espacio de investigacion\n",
            "q3: Si\n",
            "q4: si\n",
            "q5: Mp\n",
            "q6: Tengo dudas\n",
            "q7: si\n"
          ]
        }
      ]
    },
    {
      "cell_type": "markdown",
      "source": [
        "# Retroalimentación de Mistral"
      ],
      "metadata": {
        "id": "09NpowJmQdFz"
      }
    },
    {
      "cell_type": "code",
      "source": [
        "import requests\n",
        "\n",
        "def generate_feedback(responses):\n",
        "    # Verificar si la API key está configurada\n",
        "    if 'mistral_api_key' not in globals() or not mistral_api_key:\n",
        "        print(\"Error: No se encontró una API key válida. Por favor, configura tu API key.\")\n",
        "        return\n",
        "\n",
        "    # Crear el prompt basado en las respuestas del formulario\n",
        "    prompt = \"Evalúa un proyecto basado en las siguientes respuestas:\\n\"\n",
        "    for question, answer in responses.items():\n",
        "        prompt += f\"{question}: {answer}\\n\"\n",
        "\n",
        "    prompt += \"\\nProporciona sugerencias para mejorar el proyecto según el estándar Gold Standard de PBL.\"\n",
        "\n",
        "    # Llamar a la API de Mistral\n",
        "    headers = {\n",
        "        \"Authorization\": f\"Bearer {mistral_api_key}\",\n",
        "        \"Content-Type\": \"application/json\"\n",
        "    }\n",
        "    data = {\n",
        "        \"model\": \"mistral-large-latest\",\n",
        "        \"messages\": [{\"role\": \"user\", \"content\": prompt}]\n",
        "    }\n",
        "\n",
        "    print(\"Enviando solicitud a Mistral...\")\n",
        "    response = requests.post(\"https://api.mistral.ai/v1/chat/completions\", json=data, headers=headers)\n",
        "\n",
        "    if response.status_code == 200:\n",
        "        try:\n",
        "            feedback = response.json()\n",
        "            print(\"Respuesta completa de la API:\")\n",
        "            print(feedback)  # Imprime la respuesta completa para depurar\n",
        "            if \"choices\" in feedback and len(feedback[\"choices\"]) > 0:\n",
        "                print(\"Retroalimentación generada:\")\n",
        "                print(feedback[\"choices\"][0][\"message\"][\"content\"])\n",
        "            else:\n",
        "                print(\"No se generó contenido en la respuesta de la API.\")\n",
        "        except Exception as e:\n",
        "            print(f\"Error al procesar la respuesta de la API: {e}\")\n",
        "    else:\n",
        "        print(f\"Error en la solicitud: {response.status_code}\")\n",
        "        print(\"Detalles del error:\")\n",
        "        print(response.text)\n",
        "\n",
        "# Simular respuestas para probar la función\n",
        "responses = {\n",
        "    \"q1\": \"Sí, la pregunta guía es desafiante.\",\n",
        "    \"q2\": \"Sí, el proyecto incluye actividades de investigación rigurosa.\",\n",
        "    \"q3\": \"El proyecto parece auténtico y relevante.\",\n",
        "    \"q4\": \"Los estudiantes tienen voz en la elección de las actividades.\",\n",
        "    \"q5\": \"Sí, se incluyen reflexiones a lo largo del proyecto.\",\n",
        "    \"q6\": \"Hay oportunidades para revisión y crítica constructiva.\",\n",
        "    \"q7\": \"Los productos se presentan públicamente.\"\n",
        "}\n",
        "\n",
        "# Generar retroalimentación\n",
        "generate_feedback(responses)\n"
      ],
      "metadata": {
        "colab": {
          "base_uri": "https://localhost:8080/"
        },
        "id": "0rmSvZbwQXby",
        "outputId": "05c23d0b-2bbb-4ff7-8724-317c6183a1f0"
      },
      "execution_count": 15,
      "outputs": [
        {
          "output_type": "stream",
          "name": "stdout",
          "text": [
            "Enviando solicitud a Mistral...\n",
            "Respuesta completa de la API:\n",
            "{'id': '5fa5484d68994a32b840ee4268708fc3', 'object': 'chat.completion', 'created': 1733828906, 'model': 'mistral-large-latest', 'choices': [{'index': 0, 'message': {'role': 'assistant', 'tool_calls': None, 'content': 'Para evaluar y mejorar el proyecto según el estándar Gold Standard de PBL (Project-Based Learning), es importante considerar los siete elementos esenciales del PBL: una pregunta guía desafiante, investigación rigurosa, autenticidad, voz y elección del estudiante, reflexión, crítica y revisión, y presentación pública. A continuación, se proporcionan sugerencias basadas en las respuestas dadas:\\n\\n1. **Pregunta guía desafiante (q1)**:\\n   - **Evaluación**: La pregunta guía es desafiante.\\n   - **Sugerencia**: Asegúrate de que la pregunta guía no solo sea desafiante, sino también clara y abierta, permitiendo múltiples puntos de entrada y enfoques. Revisa periódicamente la pregunta guía para asegurarte de que sigue siendo relevante y atractiva para los estudiantes a medida que avanza el proyecto.\\n\\n2. **Investigación rigurosa (q2)**:\\n   - **Evaluación**: El proyecto incluye actividades de investigación rigurosa.\\n   - **Sugerencia**: Asegúrate de que las actividades de investigación estén bien estructuradas y que los estudiantes tengan acceso a recursos diversos y de alta calidad. Incorpora diferentes métodos de investigación para abarcar diversas habilidades y estilos de aprendizaje.\\n\\n3. **Autenticidad y relevancia (q3)**:\\n   - **Evaluación**: El proyecto parece auténtico y relevante.\\n   - **Sugerencia**: Para aumentar la autenticidad, considera involucrar a expertos del campo o a la comunidad en el proyecto. Esto puede proporcionar a los estudiantes una perspectiva más realista y aplicaciones prácticas de su trabajo.\\n\\n4. **Voz y elección del estudiante (q4)**:\\n   - **Evaluación**: Los estudiantes tienen voz en la elección de las actividades.\\n   - **Sugerencia**: Fomenta aún más la voz y la elección del estudiante permitiéndoles tomar decisiones sobre otros aspectos del proyecto, como la metodología de investigación, los recursos a utilizar y los formatos de presentación. Esto puede aumentar su compromiso y sentido de propiedad sobre el proyecto.\\n\\n5. **Reflexión (q5)**:\\n   - **Evaluación**: Se incluyen reflexiones a lo largo del proyecto.\\n   - **Sugerencia**: Asegúrate de que las reflexiones sean estructuradas y periódicas. Utiliza diferentes métodos de reflexión, como diarios, discusiones en grupo y autoevaluaciones, para que los estudiantes puedan reflexionar profundamente sobre su aprendizaje y progreso.\\n\\n6. **Crítica y revisión (q6)**:\\n   - **Evaluación**: Hay oportunidades para revisión y crítica constructiva.\\n   - **Sugerencia**: Fomenta un ambiente de crítica constructiva donde los estudiantes se sientan seguros para dar y recibir retroalimentación. Incorpora rúbricas claras y criterios de evaluación para guiar la revisión y crítica. Considera también la revisión entre pares y la autoevaluación.\\n\\n7. **Presentación pública (q7)**:\\n   - **Evaluación**: Los productos se presentan públicamente.\\n   - **Sugerencia**: Asegúrate de que las presentaciones públicas sean significativas y tengan una audiencia real. Esto puede incluir presentaciones a la comunidad, padres, otros estudiantes o expertos del campo. Anima a los estudiantes a practicar sus presentaciones y a recibir retroalimentación antes de la presentación final.\\n\\n**Adicionales**:\\n- **Integración de habilidades transversales**: Asegúrate de que el proyecto integre habilidades transversales como la comunicación, el trabajo en equipo y la resolución de problemas.\\n- **Evaluación continua**: Implementa una evaluación continua y formativa para monitorear el progreso de los estudiantes y ajustar el proyecto según sea necesario.\\n- **Diversidad e inclusión**: Asegúrate de que el proyecto sea inclusivo y accesible para todos los estudiantes, considerando sus diversas necesidades y habilidades.\\n\\nAl seguir estas sugerencias, puedes alinear mejor tu proyecto con el estándar Gold Standard de PBL, proporcionando una experiencia de aprendizaje más rica y significativa para los estudiantes.'}, 'finish_reason': 'stop'}], 'usage': {'prompt_tokens': 183, 'total_tokens': 1372, 'completion_tokens': 1189}}\n",
            "Retroalimentación generada:\n",
            "Para evaluar y mejorar el proyecto según el estándar Gold Standard de PBL (Project-Based Learning), es importante considerar los siete elementos esenciales del PBL: una pregunta guía desafiante, investigación rigurosa, autenticidad, voz y elección del estudiante, reflexión, crítica y revisión, y presentación pública. A continuación, se proporcionan sugerencias basadas en las respuestas dadas:\n",
            "\n",
            "1. **Pregunta guía desafiante (q1)**:\n",
            "   - **Evaluación**: La pregunta guía es desafiante.\n",
            "   - **Sugerencia**: Asegúrate de que la pregunta guía no solo sea desafiante, sino también clara y abierta, permitiendo múltiples puntos de entrada y enfoques. Revisa periódicamente la pregunta guía para asegurarte de que sigue siendo relevante y atractiva para los estudiantes a medida que avanza el proyecto.\n",
            "\n",
            "2. **Investigación rigurosa (q2)**:\n",
            "   - **Evaluación**: El proyecto incluye actividades de investigación rigurosa.\n",
            "   - **Sugerencia**: Asegúrate de que las actividades de investigación estén bien estructuradas y que los estudiantes tengan acceso a recursos diversos y de alta calidad. Incorpora diferentes métodos de investigación para abarcar diversas habilidades y estilos de aprendizaje.\n",
            "\n",
            "3. **Autenticidad y relevancia (q3)**:\n",
            "   - **Evaluación**: El proyecto parece auténtico y relevante.\n",
            "   - **Sugerencia**: Para aumentar la autenticidad, considera involucrar a expertos del campo o a la comunidad en el proyecto. Esto puede proporcionar a los estudiantes una perspectiva más realista y aplicaciones prácticas de su trabajo.\n",
            "\n",
            "4. **Voz y elección del estudiante (q4)**:\n",
            "   - **Evaluación**: Los estudiantes tienen voz en la elección de las actividades.\n",
            "   - **Sugerencia**: Fomenta aún más la voz y la elección del estudiante permitiéndoles tomar decisiones sobre otros aspectos del proyecto, como la metodología de investigación, los recursos a utilizar y los formatos de presentación. Esto puede aumentar su compromiso y sentido de propiedad sobre el proyecto.\n",
            "\n",
            "5. **Reflexión (q5)**:\n",
            "   - **Evaluación**: Se incluyen reflexiones a lo largo del proyecto.\n",
            "   - **Sugerencia**: Asegúrate de que las reflexiones sean estructuradas y periódicas. Utiliza diferentes métodos de reflexión, como diarios, discusiones en grupo y autoevaluaciones, para que los estudiantes puedan reflexionar profundamente sobre su aprendizaje y progreso.\n",
            "\n",
            "6. **Crítica y revisión (q6)**:\n",
            "   - **Evaluación**: Hay oportunidades para revisión y crítica constructiva.\n",
            "   - **Sugerencia**: Fomenta un ambiente de crítica constructiva donde los estudiantes se sientan seguros para dar y recibir retroalimentación. Incorpora rúbricas claras y criterios de evaluación para guiar la revisión y crítica. Considera también la revisión entre pares y la autoevaluación.\n",
            "\n",
            "7. **Presentación pública (q7)**:\n",
            "   - **Evaluación**: Los productos se presentan públicamente.\n",
            "   - **Sugerencia**: Asegúrate de que las presentaciones públicas sean significativas y tengan una audiencia real. Esto puede incluir presentaciones a la comunidad, padres, otros estudiantes o expertos del campo. Anima a los estudiantes a practicar sus presentaciones y a recibir retroalimentación antes de la presentación final.\n",
            "\n",
            "**Adicionales**:\n",
            "- **Integración de habilidades transversales**: Asegúrate de que el proyecto integre habilidades transversales como la comunicación, el trabajo en equipo y la resolución de problemas.\n",
            "- **Evaluación continua**: Implementa una evaluación continua y formativa para monitorear el progreso de los estudiantes y ajustar el proyecto según sea necesario.\n",
            "- **Diversidad e inclusión**: Asegúrate de que el proyecto sea inclusivo y accesible para todos los estudiantes, considerando sus diversas necesidades y habilidades.\n",
            "\n",
            "Al seguir estas sugerencias, puedes alinear mejor tu proyecto con el estándar Gold Standard de PBL, proporcionando una experiencia de aprendizaje más rica y significativa para los estudiantes.\n"
          ]
        }
      ]
    },
    {
      "cell_type": "markdown",
      "source": [
        "# Versión final"
      ],
      "metadata": {
        "id": "UlgHne2CQpdu"
      }
    },
    {
      "cell_type": "code",
      "source": [],
      "metadata": {
        "id": "lyg9T1TWQq4Y"
      },
      "execution_count": null,
      "outputs": []
    }
  ]
}